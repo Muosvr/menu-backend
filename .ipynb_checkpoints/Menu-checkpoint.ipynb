{
 "cells": [
  {
   "cell_type": "code",
   "execution_count": 11,
   "metadata": {},
   "outputs": [],
   "source": [
    "import pandas as pd\n",
    "import urllib.request\n",
    "import os"
   ]
  },
  {
   "cell_type": "code",
   "execution_count": 3,
   "metadata": {},
   "outputs": [
    {
     "name": "stdout",
     "output_type": "stream",
     "text": [
      " Volume in drive D is Data\n",
      " Volume Serial Number is 543A-CFA4\n",
      "\n",
      " Directory of D:\\PersonalProjects\\menu-backend\n",
      "\n",
      "02/06/2019  09:47 PM    <DIR>          .\n",
      "02/06/2019  09:47 PM    <DIR>          ..\n",
      "02/06/2019  09:40 PM    <DIR>          .ipynb_checkpoints\n",
      "02/06/2019  06:54 PM            86,820 console.json\n",
      "02/06/2019  06:13 PM    <DIR>          menu - Google Search - 2-6-2019 6-11-05 PM\n",
      "02/06/2019  06:12 PM         5,963,174 menu - Google Search - 2-6-2019 6-11-05 PM.zip\n",
      "02/06/2019  06:29 PM    <DIR>          menu - Google Search - 2-6-2019 6-28-41 PM\n",
      "02/06/2019  06:29 PM         9,704,912 menu - Google Search - 2-6-2019 6-28-41 PM.zip\n",
      "02/06/2019  09:47 PM             1,607 Menu.ipynb\n",
      "               4 File(s)     15,756,513 bytes\n",
      "               5 Dir(s)  911,614,500,864 bytes free\n"
     ]
    }
   ],
   "source": [
    "ls"
   ]
  },
  {
   "cell_type": "code",
   "execution_count": 2,
   "metadata": {},
   "outputs": [],
   "source": [
    "f = open(\"menu_images.txt\", \"r\")"
   ]
  },
  {
   "cell_type": "code",
   "execution_count": 44,
   "metadata": {},
   "outputs": [],
   "source": [
    "def cleanImageUrl(url):\n",
    "    url = re.sub(r'.jpg.*', \".jpg\", url)\n",
    "    url = re.sub(r'.png.*', \".png\", url)\n",
    "    url = re.sub(r'.jpeg.*', \".jpeg\", url)\n",
    "    return url"
   ]
  },
  {
   "cell_type": "code",
   "execution_count": 47,
   "metadata": {},
   "outputs": [],
   "source": [
    "def downloadImage(urlTxt, dest, maxCount = 100):\n",
    "    counter = 0\n",
    "    if not os.path.exists(dest):\n",
    "        os.makedirs(dest)\n",
    "    with open(\"menu_images.txt\", \"r\") as f:\n",
    "        while counter <= maxCount:\n",
    "            line = f.readline().rstrip('\\n')\n",
    "            line = cleanImageUrl(line)\n",
    "            print(line)\n",
    "            filename = line.split(\"/\")[-1]\n",
    "            try:\n",
    "                urllib.request.urlretrieve(line, os.path.join(dest,filename))\n",
    "            except:\n",
    "                print(\"unable to download\", line)\n",
    "            counter += 1\n",
    "            if not line:\n",
    "                break\n",
    "    print(\"Download finished\")"
   ]
  },
  {
   "cell_type": "code",
   "execution_count": 48,
   "metadata": {
    "scrolled": true
   },
   "outputs": [
    {
     "name": "stdout",
     "output_type": "stream",
     "text": [
      "http://lorenzos.net/wp-content/uploads/2017/11/Catering-Menu-2017-page-1-for-website.jpg\n",
      "http://prime10detroit.com/wp-content/uploads/2017/11/dinner-new-font1.png\n",
      "http://www.javamoosesouthpark.com/uploads/9/1/4/1/9141484/menu-2018-v2-5-drinks_orig.png\n",
      "http://000g2tw.myregisteredwp.com/wp-content/uploads/sites/3810/2017/08/Menu-Pic-081817.jpg\n",
      "http://sfuo.ca/1848/wp-content/uploads/sites/7/1848-Menu-EN.jpg\n",
      "http://www.ozarkmountainbagelco.com/wp-content/uploads/2018/03/Main-Menu.jpg\n",
      "https://wahlburgers.com/user/pages/food-menu/desktop_menu.png\n",
      "http://citycellarny.com/wp-content/uploads/2014/12/Dinner-Menu-2018-FINAL-Outlines2-1.jpg\n",
      "http://petitcafela.com/uploads/3/4/6/0/34605549/petit-cafe-menu-2finald_orig.jpg\n",
      "http://www.elunicorestaurant.com/uploads/2/6/5/3/26530076/external-menu-8-5x11-unico-menu-out-final-rev1-1_1_orig.jpg\n",
      "https://cdn10.bostonmagazine.com/wp-content/uploads/sites/2/2018/04/Bacon-Truck-Cafe-Menu-2018-1.jpg\n",
      "https://www.hughbabys.com/s/Hugh-Babys-Menu.jpg\n",
      "https://static1.squarespace.com/static/55276cd2e4b05a7749c2e44e/58d0e2a05016e185ea30b289/58d0e2a1b3db2bea262adcbc/1490084633728/Food+Menu+2017.jpg\n",
      "http://www.smokewoodbbq.com/images/smokewood-menu-feb2018.jpg\n",
      "https://cdn.vox-cdn.com/thumbor/zRiDZVTTbtRn1fc0VCzYYDjsGXg=/0x0:1536x2048/1200x0/filters:focal(0x0:1536x2048):no_upscale()/cdn.vox-cdn.com/uploads/chorus_asset/file/11704681/image1_2.jpeg\n",
      "http://www.singlefinbali.com/wp-content/uploads/2015/07/breakfast-menu-fix-2.jpg\n",
      "http://finoristorantenj.com/wp-content/uploads/2018/01/dinner-pg-1-1.png\n",
      "https://www.guzmanygomez.com/media/1408/delivery-72.jpg\n",
      "http://www.addacoffeehouse.com/wp-content/uploads/2016/03/Jun_17_CoffeMenu-1-page-001-1024x768.jpg\n",
      "http://www.wafflehouse.com/wp-content/uploads/2018/01/WHI-18-008_noprices_menu-2-lunch-dinner.png\n",
      "unable to download http://www.wafflehouse.com/wp-content/uploads/2018/01/WHI-18-008_noprices_menu-2-lunch-dinner.png\n",
      "http://smokeyjoessaloonandgrill.com/images/Menu-2.jpg\n",
      "https://kelvinsbar.com/wp-content/blogs.dir/22701/files/2017/10/newmenu-9c5.jpg\n",
      "https://static1.squarespace.com/static/55413bd7e4b09911f8b1969a/59f79fdfc83025d92398a1f4/5b5b662a88251b89f02ad127/1532716641459/page+1.png\n",
      "https://static1.squarespace.com/static/5336e4b9e4b0fa73d6881834/t/5c40db0bbba2237308815faf/1547754302252/Winter+Menu+2019-1-1+JPEG.jpg\n",
      "https://www.stoneharbor-resort.com/wp-content/uploads/2018/04/DinnerMenu_2018-1.jpg\n",
      "unable to download https://www.stoneharbor-resort.com/wp-content/uploads/2018/04/DinnerMenu_2018-1.jpg\n",
      "http://countryclubtavern.com/files/2011/12/2018-NEW-MENU-11x17-February-Version-II-Back.jpg\n",
      "https://hornitosbakery.com/wp-content/uploads/2017/12/hornitos_menu2-2.jpg\n",
      "https://www.brasseriecassis.com/wp-content/uploads/2018/03/PLAINVIEW-BRUNCH-SPRING-18.jpg\n",
      "https://stirfrycafe.com/wp-content/uploads/2015/10/LUNCH-MENU-FLYER-SEPT2017-1.jpg\n",
      "unable to download https://stirfrycafe.com/wp-content/uploads/2015/10/LUNCH-MENU-FLYER-SEPT2017-1.jpg\n",
      "http://fuelshack.com.my/blog/media/k2/items/cache/90701d02ae3da0e5a21abbd900c25748_XL.jpg\n",
      "http://www.wildberrycafe.com/menus/chicago/Wildberry-Menu-chicago-1.jpg\n",
      "http://www.lemarais.net/wp-content/uploads/2018/02/Sunday_Brunch_Menu_option2-1201171.jpg\n",
      "http://www.theblarneyirishpub.com/wp-content/uploads/2018/06/Blarney-Food-Menu-2018.6.8-1.png\n",
      "unable to download http://www.theblarneyirishpub.com/wp-content/uploads/2018/06/Blarney-Food-Menu-2018.6.8-1.png\n",
      "https://www.biggsribs.com/static/gluten-free-menu-1-aef35e13e8294268f9533498c87d9d35.jpg\n",
      "http://theruc.com.au/wp-content/uploads/2018/09/RUCMenu-copy.jpg\n",
      "unable to download http://theruc.com.au/wp-content/uploads/2018/09/RUCMenu-copy.jpg\n",
      "http://www.threebelow.com/wp-content/uploads/2017/08/3B-Menu-Page-1-Winter-2018.jpg\n",
      "https://www.kellysirishtimesdc.com/uploads/5/3/2/2/53229699/kellysirishtimes_menu-2017-07web.jpg\n",
      "https://d3ciwvs59ifrt8.cloudfront.net/9a7a95ab-ef94-4f46-90a9-49a318fb6ce0/fdea11a9-cb5d-4500-bf71-787cbf7c5a2a.jpg\n",
      "http://bodrumtakeaway.net/communities/8/004/012/640/748//images/4631065091.jpg\n",
      "https://lookaside.fbsbx.com/lookaside/crawler/media/?media_id=175735999157670\n",
      "unable to download https://lookaside.fbsbx.com/lookaside/crawler/media/?media_id=175735999157670\n",
      "http://www.ninjasushineworleans.com/wp-content/uploads/2017/08/Dinner-Menu-7-31-17-NOLA-Del-Ninja.jpg\n",
      "https://dlitehealthyonthego.com/wp-content/uploads/2017/03/dMenu-Drinks.jpg\n",
      "http://www.theatticonbroadway.com/wp-content/uploads/2012/08/Brunch-11x17-JUN-2018-proofv3_Page1.jpg\n",
      "https://www.kimosmaui.com/wp-content/uploads/2018/08/KM_Menu_Lunch_121118_02.jpg\n",
      "http://www.tuttofrescopsl.com/wp-content/uploads/2018/11/menu2018.jpg\n",
      "https://static1.squarespace.com/static/5a6bab136f4ca32c7fca9921/t/5c4f277b758d4624e10e3a0b/1548691339093/Valentines+2019+menu-1.jpg\n",
      "http://josamericanbistro.com/wp-content/uploads/2018/11/Meredith_JosBistroMenu_Dinner_WINTER-11.jpg\n",
      "https://www.dukesmaui.com/wp-content/uploads/2018/05/DBHM_Menu_Brunch_081718.jpg\n",
      "http://cafemomentum.org/wp-content/uploads/2018/08/dinner-menu-wine-08.24-dragged.jpg\n",
      "https://timedotcom.files.wordpress.com/2015/10/titanic-menu.jpg\n",
      "https://www.peachesnorwalk.com/files/2019/01/1_23_19_Peaches_Menu_Supper_ResEngToPost-1.jpg\n",
      "unable to download https://www.peachesnorwalk.com/files/2019/01/1_23_19_Peaches_Menu_Supper_ResEngToPost-1.jpg\n",
      "https://static1.squarespace.com/static/572e47f77c65e4a11355a4a1/t/5c4748317924e87e3c81054f/1548175448256/Hopscotch_Lunch-Brunch+Menu+2019.jpg\n",
      "https://static1.squarespace.com/static/54ab6a01e4b0b75815ab64f4/t/5a7a223671c10b12765f0c54/1533069031391/010618_Neptune_menu.jpg\n",
      "https://cdn.shopify.com/s/files/1/0538/3377/files/20181119_-_CORP_-_AMC_-_Paper_Menu_Inside_2048x2048.png\n",
      "http://gstreetwunderbar.com/wp-content/uploads/2018/03/SmokinEwe_Gst_Menu-update.jpg\n",
      "http://agaveuptown.com/wp-content/uploads/2018/08/lunch-agave-june-3.png\n",
      "http://fredpottskc.com/wp-content/uploads/2016/06/Menu-Back-2016-min.jpg\n",
      "https://www.smoqbbq.com/wp-content/uploads/2018/05/SMOQ-Main-REV-11547-c16385-LR-1.png\n",
      "http://darrellsseafood.com/sites/default/files/business/menu/24034/lunchmenufront_custom.jpg\n",
      "https://static1.squarespace.com/static/5a6bab136f4ca32c7fca9921/t/5c4f1e38562fa7de1ac3ecaf/1548688968670/HHC+Dinner+Menu+FRONT+012619-1.jpg\n",
      "http://calaverascantinas.com/wp-content/uploads/2018/12/dinner-menu-12-12-18.jpg\n",
      "https://www.unionhallny.com/files/2019/01/2019-Menu-pg-1.jpg\n",
      "https://static1.squarespace.com/static/5447c9ede4b07be3ba75d7fe/t/5c361242352f53f20c2c9cba/1547047513692/Corridor+Lunch+%26+Dinner+Menu_January+2019.png\n",
      "http://2p3vcyrn49f45869a1s2oj05lz.wpengine.netdna-cdn.com/images/Crabby-s-Menu-1-10-19-page-001-791x1024.jpg\n",
      "https://filetswaterfront.com/wp-content/uploads/2018/06/menu-2018-june-1.jpg\n",
      "https://static1.squarespace.com/static/56fac4f562cd948e9a5b8ddb/t/5c37f9690e2e72557d6831e9/1547172557622/Dec13Menu_EVENING_BK-01.jpg\n",
      "https://www.eatavo.com/uploads/1/7/2/7/17276194/jan14mostupdated-2_orig.jpg\n",
      "https://jakesdelmar.com/wp-content/uploads/2018/04/JDM_Menu_WineBev_011519_2.jpg\n",
      "http://lukes32bridge.com/wp-content/uploads/2018/11/Luke27s-Main-Menu-9-X-12-11-7-18-NP-1.png\n",
      "http://www.oaksteakhousecharleston.com/wp-content/uploads/2018/12/Fall-Dinner-Menu-2018-11.28-page-001.jpg\n",
      "http://www.aljohnsons.com/media/135220/Als-winter-menu1_dft6_900x1402.jpg\n",
      "https://cdn.shopify.com/s/files/1/0090/8735/2889/files/HC_PrintedMenu_NEW2018_front.jpg\n",
      "http://acornpgh.com/wp-content/uploads/2019/01/Dinner-Menu-as-of-1-18-19-for-DISPLAY-2-pdf.jpg\n",
      "http://kindreddavidson.com/wp-content/uploads/2018/10/KINDREDdinnermenu10.9.png\n",
      "http://www.fieldandfire.com/wp-content/uploads/2019/01/cafe-menu-8x14-jan-19-01.png\n",
      "http://www.wafflehouse.com/wp-content/uploads/2018/01/WHI-18-008_noprices_menu-1-breakfast.png\n",
      "unable to download http://www.wafflehouse.com/wp-content/uploads/2018/01/WHI-18-008_noprices_menu-1-breakfast.png\n",
      "http://theurbanjuicer.com/wp-content/uploads/2016/12/December-2018-Web-Menu.jpg\n",
      "http://moosestooth.net/wp-content/uploads/2016/12/mt-menuicon-menu.png\n",
      "http://ohsobrewery.com/file/2018/10/Brunch-Menu-Spring-2018-Image.jpg\n",
      "http://yellowdogeats.com/wp-content/uploads/2018/10/YDE_Windermere_Menu_NEW_Horizontal_2_Col-2.jpg\n",
      "https://cdn.shopify.com/s/files/1/0040/9272/3318/files/Stay_Golden_Eat_Menu_11_15_18_2048x2048.jpg\n"
     ]
    },
    {
     "name": "stdout",
     "output_type": "stream",
     "text": [
      "https://buffalochipsaloon.com/wp-content/uploads/2018/11/BC-Menu-Back.jpg\n",
      "unable to download https://buffalochipsaloon.com/wp-content/uploads/2018/11/BC-Menu-Back.jpg\n",
      "https://static1.squarespace.com/static/50130e66e4b006ef41174c5a/t/5a8312cff9619a50b12d846c/1518539476311/Tommys+Sunday+Brunch+Menu+-+Website.pages.jpg\n",
      "https://www.ionrestaurant.com/s/BEERWINE.jpg\n",
      "https://cdn.shopify.com/s/files/1/1868/3585/files/Persephone_Fall_Menu_1_dd513721-b276-4e80-b83d-f5ee46e40d5f_2048x2048.jpg\n",
      "http://www.kincadesbar.com/wp-content/uploads/2018/09/Kincades-Menu-Frontopt.jpg\n",
      "http://www.misterbspizza.com/wp-content/uploads/2018/03/New-Takeout-Menu_0002.jpg\n",
      "unable to download http://www.misterbspizza.com/wp-content/uploads/2018/03/New-Takeout-Menu_0002.jpg\n",
      "https://static1.squarespace.com/static/588ca4ca29687f771600b238/t/5c27c1b7aa4a995f089f4eee/1546109421321/Brookline+1128_LA+Main+Menu+v32-page-0.jpg\n",
      "https://static1.squarespace.com/static/57b1eb3f893fc09bbfac12ef/t/5bd66d911905f4f40eb92cbd/1540779466877/10.26.2018+Brunch+Menu.jpg\n",
      "unable to download https://static1.squarespace.com/static/57b1eb3f893fc09bbfac12ef/t/5bd66d911905f4f40eb92cbd/1540779466877/10.26.2018+Brunch+Menu.jpg\n",
      "http://parlorlive.com/images/parlor-restaurant-food-menu.jpg\n",
      "https://russianriverbrewing.com/wp-content/uploads/2018/12/windsor-pub-menu-page1.png\n",
      "http://www.dragonkingsdaughter.com/uploads/2018/07/MARKET-MENU-MAIN-INTERWEBS-PDF-2-2.jpeg\n",
      "https://u-maki.com/wp-content/uploads/2018/08/umaki_menu_katy_2.jpg\n",
      "https://luckymuttbar.com/userfiles/1027/images/luckymuttMenu.jpg\n",
      "http://theironworkstavern.com/iwt/wp-content/uploads/2018/12/IWT-Dinner-MEnu-.jpg\n",
      "unable to download http://theironworkstavern.com/iwt/wp-content/uploads/2018/12/IWT-Dinner-MEnu-.jpg\n",
      "https://koifusionpdx.com/wp-content/uploads/2018/11/menu_re2.jpg\n",
      "https://milkboyphilly.ticketfly.com/files/2013/02/MENU_FOOD.jpg\n",
      "http://www.crockettspublichouse.com/images/menu-front.jpg\n",
      "http://www.bistro31dallas.com/wp-content/uploads/2018/11/Bistro-31-Brunch-Menu-10.30.18.png\n",
      "https://static1.squarespace.com/static/59ee147b1aef1df7f3b0d87f/t/5b7d7b8970a6ad45ce455e30/1534950289903/Menu\n",
      "https://cdn11.bigcommerce.com/s-3324c/product_images/uploaded_images/mercier-orchard-lunchmenu-.jpg\n"
     ]
    }
   ],
   "source": [
    "downloadImage(\"menu_images.txt\", \"menu_images\")"
   ]
  },
  {
   "cell_type": "code",
   "execution_count": 39,
   "metadata": {},
   "outputs": [],
   "source": [
    "a = cleanImageUrl(\"633728/Food+Menu+2017.jpg?format=1500w\")"
   ]
  },
  {
   "cell_type": "code",
   "execution_count": 40,
   "metadata": {},
   "outputs": [
    {
     "data": {
      "text/plain": [
       "'633728/Food+Menu+2017.jpg?format=1500w'"
      ]
     },
     "execution_count": 40,
     "metadata": {},
     "output_type": "execute_result"
    }
   ],
   "source": [
    "a"
   ]
  },
  {
   "cell_type": "code",
   "execution_count": null,
   "metadata": {},
   "outputs": [],
   "source": [
    "# Making an HTTP request\n",
    "# http://docs.python-requests.org/en/master/user/quickstart/#response-content\n",
    "\n",
    "# Using Google API Key \n",
    "# https://cloud.google.com/docs/authentication/api-keys\n",
    "\n",
    "# Google Vision API\n",
    "# https://cloud.google.com/vision/docs/reference/rest/v1/files/asyncBatchAnnotate#authorization-scopes"
   ]
  }
 ],
 "metadata": {
  "kernelspec": {
   "display_name": "Python 3",
   "language": "python",
   "name": "python3"
  },
  "language_info": {
   "codemirror_mode": {
    "name": "ipython",
    "version": 3
   },
   "file_extension": ".py",
   "mimetype": "text/x-python",
   "name": "python",
   "nbconvert_exporter": "python",
   "pygments_lexer": "ipython3",
   "version": "3.7.0"
  }
 },
 "nbformat": 4,
 "nbformat_minor": 2
}
