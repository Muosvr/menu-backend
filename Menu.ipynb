{
 "cells": [
  {
   "cell_type": "code",
   "execution_count": 37,
   "metadata": {},
   "outputs": [],
   "source": [
    "import pandas as pd\n",
    "import urllib.request\n",
    "import os\n",
    "import requests\n",
    "from collections import defaultdict"
   ]
  },
  {
   "cell_type": "code",
   "execution_count": 2,
   "metadata": {},
   "outputs": [
    {
     "name": "stdout",
     "output_type": "stream",
     "text": [
      " Volume in drive D is Data\n",
      " Volume Serial Number is 543A-CFA4\n",
      "\n",
      " Directory of D:\\PersonalProjects\\menu-backend\n",
      "\n",
      "02/07/2019  08:58 PM    <DIR>          .\n",
      "02/07/2019  08:58 PM    <DIR>          ..\n",
      "02/07/2019  08:58 PM                12 .gitignore\n",
      "02/07/2019  08:48 PM    <DIR>          .ipynb_checkpoints\n",
      "02/06/2019  06:54 PM            86,820 console.json\n",
      "02/07/2019  08:48 PM                39 dev_key.txt\n",
      "02/07/2019  08:48 PM         1,177,950 Menu.ipynb\n",
      "02/06/2019  09:47 PM            80,280 menu_images.txt\n",
      "               5 File(s)      1,345,101 bytes\n",
      "               3 Dir(s)  911,063,019,520 bytes free\n"
     ]
    }
   ],
   "source": [
    "ls"
   ]
  },
  {
   "cell_type": "code",
   "execution_count": 2,
   "metadata": {},
   "outputs": [],
   "source": [
    "f = open(\"menu_images.txt\", \"r\")"
   ]
  },
  {
   "cell_type": "code",
   "execution_count": 44,
   "metadata": {},
   "outputs": [],
   "source": [
    "def cleanImageUrl(url):\n",
    "    url = re.sub(r'.jpg.*', \".jpg\", url)\n",
    "    url = re.sub(r'.png.*', \".png\", url)\n",
    "    url = re.sub(r'.jpeg.*', \".jpeg\", url)\n",
    "    return url"
   ]
  },
  {
   "cell_type": "code",
   "execution_count": 47,
   "metadata": {},
   "outputs": [],
   "source": [
    "def downloadImage(urlTxt, dest, maxCount = 100):\n",
    "    counter = 0\n",
    "    if not os.path.exists(dest):\n",
    "        os.makedirs(dest)\n",
    "    with open(\"menu_images.txt\", \"r\") as f:\n",
    "        while counter <= maxCount:\n",
    "            line = f.readline().rstrip('\\n')\n",
    "            line = cleanImageUrl(line)\n",
    "            print(line)\n",
    "            filename = line.split(\"/\")[-1]\n",
    "            try:\n",
    "                urllib.request.urlretrieve(line, os.path.join(dest,filename))\n",
    "            except:\n",
    "                print(\"unable to download\", line)\n",
    "            counter += 1\n",
    "            if not line:\n",
    "                break\n",
    "    print(\"Download finished\")"
   ]
  },
  {
   "cell_type": "code",
   "execution_count": 48,
   "metadata": {
    "scrolled": true
   },
   "outputs": [
    {
     "name": "stdout",
     "output_type": "stream",
     "text": [
      "http://lorenzos.net/wp-content/uploads/2017/11/Catering-Menu-2017-page-1-for-website.jpg\n",
      "http://prime10detroit.com/wp-content/uploads/2017/11/dinner-new-font1.png\n",
      "http://www.javamoosesouthpark.com/uploads/9/1/4/1/9141484/menu-2018-v2-5-drinks_orig.png\n",
      "http://000g2tw.myregisteredwp.com/wp-content/uploads/sites/3810/2017/08/Menu-Pic-081817.jpg\n",
      "http://sfuo.ca/1848/wp-content/uploads/sites/7/1848-Menu-EN.jpg\n",
      "http://www.ozarkmountainbagelco.com/wp-content/uploads/2018/03/Main-Menu.jpg\n",
      "https://wahlburgers.com/user/pages/food-menu/desktop_menu.png\n",
      "http://citycellarny.com/wp-content/uploads/2014/12/Dinner-Menu-2018-FINAL-Outlines2-1.jpg\n",
      "http://petitcafela.com/uploads/3/4/6/0/34605549/petit-cafe-menu-2finald_orig.jpg\n",
      "http://www.elunicorestaurant.com/uploads/2/6/5/3/26530076/external-menu-8-5x11-unico-menu-out-final-rev1-1_1_orig.jpg\n",
      "https://cdn10.bostonmagazine.com/wp-content/uploads/sites/2/2018/04/Bacon-Truck-Cafe-Menu-2018-1.jpg\n",
      "https://www.hughbabys.com/s/Hugh-Babys-Menu.jpg\n",
      "https://static1.squarespace.com/static/55276cd2e4b05a7749c2e44e/58d0e2a05016e185ea30b289/58d0e2a1b3db2bea262adcbc/1490084633728/Food+Menu+2017.jpg\n",
      "http://www.smokewoodbbq.com/images/smokewood-menu-feb2018.jpg\n",
      "https://cdn.vox-cdn.com/thumbor/zRiDZVTTbtRn1fc0VCzYYDjsGXg=/0x0:1536x2048/1200x0/filters:focal(0x0:1536x2048):no_upscale()/cdn.vox-cdn.com/uploads/chorus_asset/file/11704681/image1_2.jpeg\n",
      "http://www.singlefinbali.com/wp-content/uploads/2015/07/breakfast-menu-fix-2.jpg\n",
      "http://finoristorantenj.com/wp-content/uploads/2018/01/dinner-pg-1-1.png\n",
      "https://www.guzmanygomez.com/media/1408/delivery-72.jpg\n",
      "http://www.addacoffeehouse.com/wp-content/uploads/2016/03/Jun_17_CoffeMenu-1-page-001-1024x768.jpg\n",
      "http://www.wafflehouse.com/wp-content/uploads/2018/01/WHI-18-008_noprices_menu-2-lunch-dinner.png\n",
      "unable to download http://www.wafflehouse.com/wp-content/uploads/2018/01/WHI-18-008_noprices_menu-2-lunch-dinner.png\n",
      "http://smokeyjoessaloonandgrill.com/images/Menu-2.jpg\n",
      "https://kelvinsbar.com/wp-content/blogs.dir/22701/files/2017/10/newmenu-9c5.jpg\n",
      "https://static1.squarespace.com/static/55413bd7e4b09911f8b1969a/59f79fdfc83025d92398a1f4/5b5b662a88251b89f02ad127/1532716641459/page+1.png\n",
      "https://static1.squarespace.com/static/5336e4b9e4b0fa73d6881834/t/5c40db0bbba2237308815faf/1547754302252/Winter+Menu+2019-1-1+JPEG.jpg\n",
      "https://www.stoneharbor-resort.com/wp-content/uploads/2018/04/DinnerMenu_2018-1.jpg\n",
      "unable to download https://www.stoneharbor-resort.com/wp-content/uploads/2018/04/DinnerMenu_2018-1.jpg\n",
      "http://countryclubtavern.com/files/2011/12/2018-NEW-MENU-11x17-February-Version-II-Back.jpg\n",
      "https://hornitosbakery.com/wp-content/uploads/2017/12/hornitos_menu2-2.jpg\n",
      "https://www.brasseriecassis.com/wp-content/uploads/2018/03/PLAINVIEW-BRUNCH-SPRING-18.jpg\n",
      "https://stirfrycafe.com/wp-content/uploads/2015/10/LUNCH-MENU-FLYER-SEPT2017-1.jpg\n",
      "unable to download https://stirfrycafe.com/wp-content/uploads/2015/10/LUNCH-MENU-FLYER-SEPT2017-1.jpg\n",
      "http://fuelshack.com.my/blog/media/k2/items/cache/90701d02ae3da0e5a21abbd900c25748_XL.jpg\n",
      "http://www.wildberrycafe.com/menus/chicago/Wildberry-Menu-chicago-1.jpg\n",
      "http://www.lemarais.net/wp-content/uploads/2018/02/Sunday_Brunch_Menu_option2-1201171.jpg\n",
      "http://www.theblarneyirishpub.com/wp-content/uploads/2018/06/Blarney-Food-Menu-2018.6.8-1.png\n",
      "unable to download http://www.theblarneyirishpub.com/wp-content/uploads/2018/06/Blarney-Food-Menu-2018.6.8-1.png\n",
      "https://www.biggsribs.com/static/gluten-free-menu-1-aef35e13e8294268f9533498c87d9d35.jpg\n",
      "http://theruc.com.au/wp-content/uploads/2018/09/RUCMenu-copy.jpg\n",
      "unable to download http://theruc.com.au/wp-content/uploads/2018/09/RUCMenu-copy.jpg\n",
      "http://www.threebelow.com/wp-content/uploads/2017/08/3B-Menu-Page-1-Winter-2018.jpg\n",
      "https://www.kellysirishtimesdc.com/uploads/5/3/2/2/53229699/kellysirishtimes_menu-2017-07web.jpg\n",
      "https://d3ciwvs59ifrt8.cloudfront.net/9a7a95ab-ef94-4f46-90a9-49a318fb6ce0/fdea11a9-cb5d-4500-bf71-787cbf7c5a2a.jpg\n",
      "http://bodrumtakeaway.net/communities/8/004/012/640/748//images/4631065091.jpg\n",
      "https://lookaside.fbsbx.com/lookaside/crawler/media/?media_id=175735999157670\n",
      "unable to download https://lookaside.fbsbx.com/lookaside/crawler/media/?media_id=175735999157670\n",
      "http://www.ninjasushineworleans.com/wp-content/uploads/2017/08/Dinner-Menu-7-31-17-NOLA-Del-Ninja.jpg\n",
      "https://dlitehealthyonthego.com/wp-content/uploads/2017/03/dMenu-Drinks.jpg\n",
      "http://www.theatticonbroadway.com/wp-content/uploads/2012/08/Brunch-11x17-JUN-2018-proofv3_Page1.jpg\n",
      "https://www.kimosmaui.com/wp-content/uploads/2018/08/KM_Menu_Lunch_121118_02.jpg\n",
      "http://www.tuttofrescopsl.com/wp-content/uploads/2018/11/menu2018.jpg\n",
      "https://static1.squarespace.com/static/5a6bab136f4ca32c7fca9921/t/5c4f277b758d4624e10e3a0b/1548691339093/Valentines+2019+menu-1.jpg\n",
      "http://josamericanbistro.com/wp-content/uploads/2018/11/Meredith_JosBistroMenu_Dinner_WINTER-11.jpg\n",
      "https://www.dukesmaui.com/wp-content/uploads/2018/05/DBHM_Menu_Brunch_081718.jpg\n",
      "http://cafemomentum.org/wp-content/uploads/2018/08/dinner-menu-wine-08.24-dragged.jpg\n",
      "https://timedotcom.files.wordpress.com/2015/10/titanic-menu.jpg\n",
      "https://www.peachesnorwalk.com/files/2019/01/1_23_19_Peaches_Menu_Supper_ResEngToPost-1.jpg\n",
      "unable to download https://www.peachesnorwalk.com/files/2019/01/1_23_19_Peaches_Menu_Supper_ResEngToPost-1.jpg\n",
      "https://static1.squarespace.com/static/572e47f77c65e4a11355a4a1/t/5c4748317924e87e3c81054f/1548175448256/Hopscotch_Lunch-Brunch+Menu+2019.jpg\n",
      "https://static1.squarespace.com/static/54ab6a01e4b0b75815ab64f4/t/5a7a223671c10b12765f0c54/1533069031391/010618_Neptune_menu.jpg\n",
      "https://cdn.shopify.com/s/files/1/0538/3377/files/20181119_-_CORP_-_AMC_-_Paper_Menu_Inside_2048x2048.png\n",
      "http://gstreetwunderbar.com/wp-content/uploads/2018/03/SmokinEwe_Gst_Menu-update.jpg\n",
      "http://agaveuptown.com/wp-content/uploads/2018/08/lunch-agave-june-3.png\n",
      "http://fredpottskc.com/wp-content/uploads/2016/06/Menu-Back-2016-min.jpg\n",
      "https://www.smoqbbq.com/wp-content/uploads/2018/05/SMOQ-Main-REV-11547-c16385-LR-1.png\n",
      "http://darrellsseafood.com/sites/default/files/business/menu/24034/lunchmenufront_custom.jpg\n",
      "https://static1.squarespace.com/static/5a6bab136f4ca32c7fca9921/t/5c4f1e38562fa7de1ac3ecaf/1548688968670/HHC+Dinner+Menu+FRONT+012619-1.jpg\n",
      "http://calaverascantinas.com/wp-content/uploads/2018/12/dinner-menu-12-12-18.jpg\n",
      "https://www.unionhallny.com/files/2019/01/2019-Menu-pg-1.jpg\n",
      "https://static1.squarespace.com/static/5447c9ede4b07be3ba75d7fe/t/5c361242352f53f20c2c9cba/1547047513692/Corridor+Lunch+%26+Dinner+Menu_January+2019.png\n",
      "http://2p3vcyrn49f45869a1s2oj05lz.wpengine.netdna-cdn.com/images/Crabby-s-Menu-1-10-19-page-001-791x1024.jpg\n",
      "https://filetswaterfront.com/wp-content/uploads/2018/06/menu-2018-june-1.jpg\n",
      "https://static1.squarespace.com/static/56fac4f562cd948e9a5b8ddb/t/5c37f9690e2e72557d6831e9/1547172557622/Dec13Menu_EVENING_BK-01.jpg\n",
      "https://www.eatavo.com/uploads/1/7/2/7/17276194/jan14mostupdated-2_orig.jpg\n",
      "https://jakesdelmar.com/wp-content/uploads/2018/04/JDM_Menu_WineBev_011519_2.jpg\n",
      "http://lukes32bridge.com/wp-content/uploads/2018/11/Luke27s-Main-Menu-9-X-12-11-7-18-NP-1.png\n",
      "http://www.oaksteakhousecharleston.com/wp-content/uploads/2018/12/Fall-Dinner-Menu-2018-11.28-page-001.jpg\n",
      "http://www.aljohnsons.com/media/135220/Als-winter-menu1_dft6_900x1402.jpg\n",
      "https://cdn.shopify.com/s/files/1/0090/8735/2889/files/HC_PrintedMenu_NEW2018_front.jpg\n",
      "http://acornpgh.com/wp-content/uploads/2019/01/Dinner-Menu-as-of-1-18-19-for-DISPLAY-2-pdf.jpg\n",
      "http://kindreddavidson.com/wp-content/uploads/2018/10/KINDREDdinnermenu10.9.png\n",
      "http://www.fieldandfire.com/wp-content/uploads/2019/01/cafe-menu-8x14-jan-19-01.png\n",
      "http://www.wafflehouse.com/wp-content/uploads/2018/01/WHI-18-008_noprices_menu-1-breakfast.png\n",
      "unable to download http://www.wafflehouse.com/wp-content/uploads/2018/01/WHI-18-008_noprices_menu-1-breakfast.png\n",
      "http://theurbanjuicer.com/wp-content/uploads/2016/12/December-2018-Web-Menu.jpg\n",
      "http://moosestooth.net/wp-content/uploads/2016/12/mt-menuicon-menu.png\n",
      "http://ohsobrewery.com/file/2018/10/Brunch-Menu-Spring-2018-Image.jpg\n",
      "http://yellowdogeats.com/wp-content/uploads/2018/10/YDE_Windermere_Menu_NEW_Horizontal_2_Col-2.jpg\n",
      "https://cdn.shopify.com/s/files/1/0040/9272/3318/files/Stay_Golden_Eat_Menu_11_15_18_2048x2048.jpg\n"
     ]
    },
    {
     "name": "stdout",
     "output_type": "stream",
     "text": [
      "https://buffalochipsaloon.com/wp-content/uploads/2018/11/BC-Menu-Back.jpg\n",
      "unable to download https://buffalochipsaloon.com/wp-content/uploads/2018/11/BC-Menu-Back.jpg\n",
      "https://static1.squarespace.com/static/50130e66e4b006ef41174c5a/t/5a8312cff9619a50b12d846c/1518539476311/Tommys+Sunday+Brunch+Menu+-+Website.pages.jpg\n",
      "https://www.ionrestaurant.com/s/BEERWINE.jpg\n",
      "https://cdn.shopify.com/s/files/1/1868/3585/files/Persephone_Fall_Menu_1_dd513721-b276-4e80-b83d-f5ee46e40d5f_2048x2048.jpg\n",
      "http://www.kincadesbar.com/wp-content/uploads/2018/09/Kincades-Menu-Frontopt.jpg\n",
      "http://www.misterbspizza.com/wp-content/uploads/2018/03/New-Takeout-Menu_0002.jpg\n",
      "unable to download http://www.misterbspizza.com/wp-content/uploads/2018/03/New-Takeout-Menu_0002.jpg\n",
      "https://static1.squarespace.com/static/588ca4ca29687f771600b238/t/5c27c1b7aa4a995f089f4eee/1546109421321/Brookline+1128_LA+Main+Menu+v32-page-0.jpg\n",
      "https://static1.squarespace.com/static/57b1eb3f893fc09bbfac12ef/t/5bd66d911905f4f40eb92cbd/1540779466877/10.26.2018+Brunch+Menu.jpg\n",
      "unable to download https://static1.squarespace.com/static/57b1eb3f893fc09bbfac12ef/t/5bd66d911905f4f40eb92cbd/1540779466877/10.26.2018+Brunch+Menu.jpg\n",
      "http://parlorlive.com/images/parlor-restaurant-food-menu.jpg\n",
      "https://russianriverbrewing.com/wp-content/uploads/2018/12/windsor-pub-menu-page1.png\n",
      "http://www.dragonkingsdaughter.com/uploads/2018/07/MARKET-MENU-MAIN-INTERWEBS-PDF-2-2.jpeg\n",
      "https://u-maki.com/wp-content/uploads/2018/08/umaki_menu_katy_2.jpg\n",
      "https://luckymuttbar.com/userfiles/1027/images/luckymuttMenu.jpg\n",
      "http://theironworkstavern.com/iwt/wp-content/uploads/2018/12/IWT-Dinner-MEnu-.jpg\n",
      "unable to download http://theironworkstavern.com/iwt/wp-content/uploads/2018/12/IWT-Dinner-MEnu-.jpg\n",
      "https://koifusionpdx.com/wp-content/uploads/2018/11/menu_re2.jpg\n",
      "https://milkboyphilly.ticketfly.com/files/2013/02/MENU_FOOD.jpg\n",
      "http://www.crockettspublichouse.com/images/menu-front.jpg\n",
      "http://www.bistro31dallas.com/wp-content/uploads/2018/11/Bistro-31-Brunch-Menu-10.30.18.png\n",
      "https://static1.squarespace.com/static/59ee147b1aef1df7f3b0d87f/t/5b7d7b8970a6ad45ce455e30/1534950289903/Menu\n",
      "https://cdn11.bigcommerce.com/s-3324c/product_images/uploaded_images/mercier-orchard-lunchmenu-.jpg\n"
     ]
    }
   ],
   "source": [
    "downloadImage(\"menu_images.txt\", \"menu_images\")"
   ]
  },
  {
   "cell_type": "code",
   "execution_count": 39,
   "metadata": {},
   "outputs": [],
   "source": [
    "a = cleanImageUrl(\"633728/Food+Menu+2017.jpg?format=1500w\")"
   ]
  },
  {
   "cell_type": "code",
   "execution_count": 40,
   "metadata": {},
   "outputs": [
    {
     "data": {
      "text/plain": [
       "'633728/Food+Menu+2017.jpg?format=1500w'"
      ]
     },
     "execution_count": 40,
     "metadata": {},
     "output_type": "execute_result"
    }
   ],
   "source": [
    "a"
   ]
  },
  {
   "cell_type": "code",
   "execution_count": null,
   "metadata": {},
   "outputs": [],
   "source": [
    "# Making an HTTP request\n",
    "# http://docs.python-requests.org/en/master/user/quickstart/#response-content\n",
    "\n",
    "# Using Google API Key \n",
    "# https://cloud.google.com/docs/authentication/api-keys\n",
    "\n",
    "# Google Vision API\n",
    "# https://cloud.google.com/vision/docs/reference/rest/v1/files/asyncBatchAnnotate#authorization-scopes"
   ]
  },
  {
   "cell_type": "code",
   "execution_count": 4,
   "metadata": {},
   "outputs": [],
   "source": [
    "f = open(\"dev_key.txt\", \"r\")\n",
    "googleAPIKey = f.readline()"
   ]
  },
  {
   "cell_type": "code",
   "execution_count": 5,
   "metadata": {},
   "outputs": [],
   "source": [
    "data = {\n",
    "    \"requests\":[\n",
    "        {\n",
    "            \"image\":{\n",
    "                \"source\":{\n",
    "                    \"imageUri\":\"http://lorenzos.net/wp-content/uploads/2017/11/Catering-Menu-2017-page-1-for-website.jpg\"\n",
    "                }\n",
    "            },\n",
    "            \"features\":[{\"type\": \"DOCUMENT_TEXT_DETECTION\"}]\n",
    "        }\n",
    "    ]\n",
    "}\n",
    "\n",
    "headers={ \"Referer\":\"http://localhost:8888/notebooks/Menu.ipynb\" }\n",
    "url = \"https://vision.googleapis.com/v1/images:annotate\""
   ]
  },
  {
   "cell_type": "code",
   "execution_count": 6,
   "metadata": {},
   "outputs": [],
   "source": [
    "r = requests.post(\"https://vision.googleapis.com/v1/images:annotate?key=\"+googleAPIKey, headers=headers, json=data )"
   ]
  },
  {
   "cell_type": "code",
   "execution_count": 15,
   "metadata": {},
   "outputs": [],
   "source": [
    "res = r.json()[\"responses\"][0]"
   ]
  },
  {
   "cell_type": "code",
   "execution_count": 29,
   "metadata": {},
   "outputs": [],
   "source": [
    "textArr = res[\"textAnnotations\"][0][\"description\"].split(\"\\n\")"
   ]
  },
  {
   "cell_type": "code",
   "execution_count": 30,
   "metadata": {},
   "outputs": [
    {
     "data": {
      "text/plain": [
       "104"
      ]
     },
     "execution_count": 30,
     "metadata": {},
     "output_type": "execute_result"
    }
   ],
   "source": [
    "len(textArr)"
   ]
  },
  {
   "cell_type": "code",
   "execution_count": 88,
   "metadata": {},
   "outputs": [],
   "source": [
    "def createDict(textArr):\n",
    "    # create an array the size of the top list\n",
    "    counting_dict = defaultdict(lambda:0)\n",
    "    for phrase in textArr:\n",
    "        counting_dict[phrase] += 1\n",
    "    # Iterate through every key in default dict\n",
    "    # If the value is greater than the last key's value in the top list array, \n",
    "    # Replace the last item in the array with new key\n",
    "    # Sort the top list array\n",
    "        # iterate through items in the array\n",
    "        # \n",
    "    return counting_dict  "
   ]
  },
  {
   "cell_type": "code",
   "execution_count": 89,
   "metadata": {
    "collapsed": true
   },
   "outputs": [
    {
     "data": {
      "text/plain": [
       "defaultdict(<function __main__.createDict.<locals>.<lambda>()>,\n",
       "            {'Appetizers': 1,\n",
       "             \"Chef's Salads\": 1,\n",
       "             'Serves 25': 1,\n",
       "             'serves 25': 3,\n",
       "             '90-100 pcs.': 1,\n",
       "             '59.95': 1,\n",
       "             '64.95': 1,\n",
       "             '69.95': 1,\n",
       "             '75.95': 1,\n",
       "             '56.95': 1,\n",
       "             'Freshly made to order and so many choices!': 1,\n",
       "             'Family Size (serves 8-10) Small (serves 12-14) Large (serves 20-25)': 1,\n",
       "             'Italian Antipasto 29.95/family 39.95/sm 52.95/1g': 1,\n",
       "             'Tossed Salad 19.95/family 32.95/sm 42.95/lg': 1,\n",
       "             'Caesar Salad': 1,\n",
       "             '31.95/serves 8-10': 1,\n",
       "             'House Italian Dressing': 1,\n",
       "             '4.50/pt': 2,\n",
       "             'Saratoga Bleu Cheese Dressing': 1,\n",
       "             '5.50/pt': 1,\n",
       "             'Saratoga Dressing': 1,\n",
       "             'Vegetable Platter with Dip': 1,\n",
       "             'Cheese and Cracker Platter': 1,\n",
       "             'Chicken Wings (Buffalo or BBQ)': 1,\n",
       "             'with Bleu Cheese Dressing': 1,\n",
       "             'Tray of Chicken Tenders': 1,\n",
       "             'Served with Honey Mustard or BBQ sauce': 1,\n",
       "             'Bruschetta': 1,\n",
       "             'Tray of Vegetable Calzone': 1,\n",
       "             'Tray of Meat Calzone': 1,\n",
       "             'Watermelon Basket': 1,\n",
       "             'Our Famous 7ft Italian Grinder': 1,\n",
       "             'Perfect addition for a hungry crowd!': 1,\n",
       "             '24 slices': 2,\n",
       "             '.': 1,\n",
       "             '44.95': 1,\n",
       "             '28.95': 2,\n",
       "             '74.95': 2,\n",
       "             'Paita': 1,\n",
       "             'Our pasta is made fresh daily, using only the finest semolina and': 1,\n",
       "             'freshest eggs available.': 1,\n",
       "             'Spaghetti, Shells, Rigatoni, Fettucine': 1,\n",
       "             '4.95/lb': 1,\n",
       "             'Soups': 1,\n",
       "             'Wheat Angel Hair, Angel Hair, Primavera Fusilli,': 1,\n",
       "             'Lemon Fusilli, Garlic & Basil Fettucine': 1,\n",
       "             'Meat Ravioli': 1,\n",
       "             '6.95/16': 1,\n",
       "             '12.95/lb': 1,\n",
       "             '13.95/lb': 1,\n",
       "             'Cheese or Butternut Ravioli': 1,\n",
       "             'Each of our soups is homemade with the freshest ingredients that make': 1,\n",
       "             'these favorites a hearty compliment to your meal.': 1,\n",
       "             'Homemade Minestrone Soup': 1,\n",
       "             '10.95/qt': 2,\n",
       "             'Homemade Soup of the Day': 1,\n",
       "             'Our own New England Clam Chowder': 1,\n",
       "             '12.95/qt': 1,\n",
       "             'Specialty Sauces': 1,\n",
       "             'Cheese & Bread': 1,\n",
       "             \"Always freshly prepared using Lorenzo's exact recipes to insure the\": 1,\n",
       "             'consistent flavor and quality that is so important to every dish we serve.': 1,\n",
       "             'Tomato Sauce': 1,\n",
       "             '7.50/q 13.95/half gallon': 1,\n",
       "             'Meat Sauce': 1,\n",
       "             '9.50/qt 17.95/half gallon': 1,\n",
       "             'Diavolo Sauce': 1,\n",
       "             '10.50/qt': 4,\n",
       "             \"Lorenzo's own custom blended cheeses and freshly baked breads\": 1,\n",
       "             'Cacciatore Sauce': 1,\n",
       "             'Shredded Pizza Cheese': 1,\n",
       "             'Grated Romano Cheese': 1,\n",
       "             'Italian Bread': 1,\n",
       "             'Garlic Bread': 1,\n",
       "             'Focaccia Bread': 1,\n",
       "             'Mini Rolls': 1,\n",
       "             '8.50/lb': 1,\n",
       "             '10.95/lb': 1,\n",
       "             '3.95/loaf': 1,\n",
       "             '9.95/full loaf': 1,\n",
       "             '5.50/loaf': 1,\n",
       "             '5.50/dozen': 1,\n",
       "             '5.50/ 72 loaf': 1,\n",
       "             'Linguicia Sauce': 1,\n",
       "             'Mushroom Sauce': 1,\n",
       "             'Fresh Clam Sauce': 1,\n",
       "             'Alfredo Sauce': 1,\n",
       "             '12.95/pt': 2,\n",
       "             'esa': 1,\n",
       "             'Consuming raw, uncooked or under cooked meats fish, poultry, shellfish or eggs, may increase your risk of food borne illness, es': 1,\n",
       "             'Before placing your order, please inform your server if a person in your party has a food a': 1,\n",
       "             'the one your enement pour tok et to': 1,\n",
       "             '': 1})"
      ]
     },
     "execution_count": 89,
     "metadata": {},
     "output_type": "execute_result"
    }
   ],
   "source": [
    "createDict(textArr)"
   ]
  },
  {
   "cell_type": "code",
   "execution_count": 155,
   "metadata": {},
   "outputs": [],
   "source": [
    "def insertSortByDictValue(dictionary, array, new_element, keep_length=False):\n",
    "    def printValues():\n",
    "        for e in array:\n",
    "            print(dictionary[e], end=\", \")\n",
    "        print()\n",
    "    try:\n",
    "        dictionary[new_element]\n",
    "    except:\n",
    "        print(\"Error: new_element not in dict\")\n",
    "    if not array:\n",
    "        array.append(new_element)\n",
    "        return array\n",
    "#     if dictionary[array[-1]] > dictionary[new_element]:\n",
    "#         print(\"New element has smaller dict value than smallest element in array\")\n",
    "#         printValues()\n",
    "#         return array\n",
    "    for i in range(len(array) - 1, -1, -1):\n",
    "        if dictionary[array[i]] > dictionary[new_element]:\n",
    "            array.insert(i+1, new_element)\n",
    "            if keep_length:\n",
    "                array.pop(-1)\n",
    "            printValues()\n",
    "            return array\n",
    "    array.insert(0, new_element)\n",
    "    if keep_length:\n",
    "        array.pop(-1)\n",
    "    printValues()\n",
    "    return array"
   ]
  },
  {
   "cell_type": "code",
   "execution_count": 156,
   "metadata": {},
   "outputs": [
    {
     "name": "stdout",
     "output_type": "stream",
     "text": [
      "324, 32, \n",
      "324, 250, \n"
     ]
    },
    {
     "data": {
      "text/plain": [
       "['b', 'd']"
      ]
     },
     "execution_count": 156,
     "metadata": {},
     "output_type": "execute_result"
    }
   ],
   "source": [
    "dictionary = {\"a\":3, \"b\":324, \"c\":32, \"d\":250, \"e\": 233}\n",
    "test = insertSortByDictValue(dictionary, [\"c\"], \"b\")\n",
    "insertSortByDictValue(dictionary, test, \"d\", True)\n",
    "test"
   ]
  },
  {
   "cell_type": "code",
   "execution_count": 154,
   "metadata": {},
   "outputs": [
    {
     "name": "stdout",
     "output_type": "stream",
     "text": [
      "324, 250, "
     ]
    },
    {
     "data": {
      "text/plain": [
       "['b', 'd']"
      ]
     },
     "execution_count": 154,
     "metadata": {},
     "output_type": "execute_result"
    }
   ],
   "source": []
  },
  {
   "cell_type": "code",
   "execution_count": 157,
   "metadata": {},
   "outputs": [],
   "source": [
    "def getTopPhrases(dictionary, max_result=10):\n",
    "    array = []\n",
    "    if not array:\n",
    "        print(\"empty\")\n",
    "    for e in dictionary.keys():\n",
    "        if len(array) <= max_result:\n",
    "            insertSortByDictValue(dictionary, array, e)\n",
    "        else:\n",
    "            insertSortByDictValue(dictionary, array, e, True)\n",
    "    return array"
   ]
  },
  {
   "cell_type": "code",
   "execution_count": 158,
   "metadata": {},
   "outputs": [
    {
     "name": "stdout",
     "output_type": "stream",
     "text": [
      "empty\n",
      "1, 1, \n",
      "1, 1, 1, \n",
      "3, 1, 1, 1, \n",
      "3, 1, 1, 1, 1, \n",
      "3, 1, 1, 1, 1, 1, \n",
      "3, 1, 1, 1, 1, 1, 1, \n",
      "3, 1, 1, 1, 1, 1, 1, 1, \n",
      "3, 1, 1, 1, 1, 1, 1, 1, 1, \n",
      "3, 1, 1, 1, 1, 1, 1, 1, 1, 1, \n",
      "3, 1, 1, 1, 1, 1, 1, 1, 1, 1, 1, \n",
      "3, 1, 1, 1, 1, 1, 1, 1, 1, 1, 1, \n",
      "3, 1, 1, 1, 1, 1, 1, 1, 1, 1, 1, \n",
      "3, 1, 1, 1, 1, 1, 1, 1, 1, 1, 1, \n",
      "3, 1, 1, 1, 1, 1, 1, 1, 1, 1, 1, \n",
      "3, 1, 1, 1, 1, 1, 1, 1, 1, 1, 1, \n",
      "3, 1, 1, 1, 1, 1, 1, 1, 1, 1, 1, \n",
      "3, 2, 1, 1, 1, 1, 1, 1, 1, 1, 1, \n",
      "3, 2, 1, 1, 1, 1, 1, 1, 1, 1, 1, \n",
      "3, 2, 1, 1, 1, 1, 1, 1, 1, 1, 1, \n",
      "3, 2, 1, 1, 1, 1, 1, 1, 1, 1, 1, \n",
      "3, 2, 1, 1, 1, 1, 1, 1, 1, 1, 1, \n",
      "3, 2, 1, 1, 1, 1, 1, 1, 1, 1, 1, \n",
      "3, 2, 1, 1, 1, 1, 1, 1, 1, 1, 1, \n",
      "3, 2, 1, 1, 1, 1, 1, 1, 1, 1, 1, \n",
      "3, 2, 1, 1, 1, 1, 1, 1, 1, 1, 1, \n",
      "3, 2, 1, 1, 1, 1, 1, 1, 1, 1, 1, \n",
      "3, 2, 1, 1, 1, 1, 1, 1, 1, 1, 1, \n",
      "3, 2, 1, 1, 1, 1, 1, 1, 1, 1, 1, \n",
      "3, 2, 1, 1, 1, 1, 1, 1, 1, 1, 1, \n",
      "3, 2, 1, 1, 1, 1, 1, 1, 1, 1, 1, \n",
      "3, 2, 1, 1, 1, 1, 1, 1, 1, 1, 1, \n",
      "3, 2, 1, 1, 1, 1, 1, 1, 1, 1, 1, \n",
      "3, 2, 2, 1, 1, 1, 1, 1, 1, 1, 1, \n",
      "3, 2, 2, 1, 1, 1, 1, 1, 1, 1, 1, \n",
      "3, 2, 2, 1, 1, 1, 1, 1, 1, 1, 1, \n",
      "3, 2, 2, 2, 1, 1, 1, 1, 1, 1, 1, \n",
      "3, 2, 2, 2, 2, 1, 1, 1, 1, 1, 1, \n",
      "3, 2, 2, 2, 2, 1, 1, 1, 1, 1, 1, \n",
      "3, 2, 2, 2, 2, 1, 1, 1, 1, 1, 1, \n",
      "3, 2, 2, 2, 2, 1, 1, 1, 1, 1, 1, \n",
      "3, 2, 2, 2, 2, 1, 1, 1, 1, 1, 1, \n",
      "3, 2, 2, 2, 2, 1, 1, 1, 1, 1, 1, \n",
      "3, 2, 2, 2, 2, 1, 1, 1, 1, 1, 1, \n",
      "3, 2, 2, 2, 2, 1, 1, 1, 1, 1, 1, \n",
      "3, 2, 2, 2, 2, 1, 1, 1, 1, 1, 1, \n",
      "3, 2, 2, 2, 2, 1, 1, 1, 1, 1, 1, \n",
      "3, 2, 2, 2, 2, 1, 1, 1, 1, 1, 1, \n",
      "3, 2, 2, 2, 2, 1, 1, 1, 1, 1, 1, \n",
      "3, 2, 2, 2, 2, 1, 1, 1, 1, 1, 1, \n",
      "3, 2, 2, 2, 2, 1, 1, 1, 1, 1, 1, \n",
      "3, 2, 2, 2, 2, 1, 1, 1, 1, 1, 1, \n",
      "3, 2, 2, 2, 2, 1, 1, 1, 1, 1, 1, \n",
      "3, 2, 2, 2, 2, 1, 1, 1, 1, 1, 1, \n",
      "3, 2, 2, 2, 2, 2, 1, 1, 1, 1, 1, \n",
      "3, 2, 2, 2, 2, 2, 1, 1, 1, 1, 1, \n",
      "3, 2, 2, 2, 2, 2, 1, 1, 1, 1, 1, \n",
      "3, 2, 2, 2, 2, 2, 1, 1, 1, 1, 1, \n",
      "3, 2, 2, 2, 2, 2, 1, 1, 1, 1, 1, \n",
      "3, 2, 2, 2, 2, 2, 1, 1, 1, 1, 1, \n",
      "3, 2, 2, 2, 2, 2, 1, 1, 1, 1, 1, \n",
      "3, 2, 2, 2, 2, 2, 1, 1, 1, 1, 1, \n",
      "3, 2, 2, 2, 2, 2, 1, 1, 1, 1, 1, \n",
      "3, 2, 2, 2, 2, 2, 1, 1, 1, 1, 1, \n",
      "3, 2, 2, 2, 2, 2, 1, 1, 1, 1, 1, \n",
      "3, 2, 2, 2, 2, 2, 1, 1, 1, 1, 1, \n",
      "3, 2, 2, 2, 2, 2, 1, 1, 1, 1, 1, \n",
      "4, 3, 2, 2, 2, 2, 2, 1, 1, 1, 1, \n",
      "4, 3, 2, 2, 2, 2, 2, 1, 1, 1, 1, \n",
      "4, 3, 2, 2, 2, 2, 2, 1, 1, 1, 1, \n",
      "4, 3, 2, 2, 2, 2, 2, 1, 1, 1, 1, \n",
      "4, 3, 2, 2, 2, 2, 2, 1, 1, 1, 1, \n",
      "4, 3, 2, 2, 2, 2, 2, 1, 1, 1, 1, \n",
      "4, 3, 2, 2, 2, 2, 2, 1, 1, 1, 1, \n",
      "4, 3, 2, 2, 2, 2, 2, 1, 1, 1, 1, \n",
      "4, 3, 2, 2, 2, 2, 2, 1, 1, 1, 1, \n",
      "4, 3, 2, 2, 2, 2, 2, 1, 1, 1, 1, \n",
      "4, 3, 2, 2, 2, 2, 2, 1, 1, 1, 1, \n",
      "4, 3, 2, 2, 2, 2, 2, 1, 1, 1, 1, \n",
      "4, 3, 2, 2, 2, 2, 2, 1, 1, 1, 1, \n",
      "4, 3, 2, 2, 2, 2, 2, 1, 1, 1, 1, \n",
      "4, 3, 2, 2, 2, 2, 2, 1, 1, 1, 1, \n",
      "4, 3, 2, 2, 2, 2, 2, 1, 1, 1, 1, \n",
      "4, 3, 2, 2, 2, 2, 2, 1, 1, 1, 1, \n",
      "4, 3, 2, 2, 2, 2, 2, 1, 1, 1, 1, \n",
      "4, 3, 2, 2, 2, 2, 2, 1, 1, 1, 1, \n",
      "4, 3, 2, 2, 2, 2, 2, 1, 1, 1, 1, \n",
      "4, 3, 2, 2, 2, 2, 2, 2, 1, 1, 1, \n",
      "4, 3, 2, 2, 2, 2, 2, 2, 1, 1, 1, \n",
      "4, 3, 2, 2, 2, 2, 2, 2, 1, 1, 1, \n",
      "4, 3, 2, 2, 2, 2, 2, 2, 1, 1, 1, \n",
      "4, 3, 2, 2, 2, 2, 2, 2, 1, 1, 1, \n",
      "4, 3, 2, 2, 2, 2, 2, 2, 1, 1, 1, \n"
     ]
    },
    {
     "data": {
      "text/plain": [
       "['10.50/qt',\n",
       " 'serves 25',\n",
       " '12.95/pt',\n",
       " '10.95/qt',\n",
       " '74.95',\n",
       " '28.95',\n",
       " '24 slices',\n",
       " '4.50/pt',\n",
       " '',\n",
       " 'the one your enement pour tok et to',\n",
       " 'Before placing your order, please inform your server if a person in your party has a food a']"
      ]
     },
     "execution_count": 158,
     "metadata": {},
     "output_type": "execute_result"
    }
   ],
   "source": [
    "dictionary = createDict(textArr)\n",
    "getTopPhrases(dictionary)"
   ]
  },
  {
   "cell_type": "code",
   "execution_count": 92,
   "metadata": {},
   "outputs": [
    {
     "name": "stdout",
     "output_type": "stream",
     "text": [
      "empty\n"
     ]
    }
   ],
   "source": [
    "getTopPhrases(dictionary)"
   ]
  },
  {
   "cell_type": "code",
   "execution_count": 117,
   "metadata": {},
   "outputs": [],
   "source": []
  },
  {
   "cell_type": "code",
   "execution_count": null,
   "metadata": {},
   "outputs": [],
   "source": [
    "# Archieves\n",
    "\n",
    "# insertion sort with a fixed length array in descending order\n",
    "# given an array and a new element\n",
    "def insertionSort(array, new_element):\n",
    "    # check if the last item is smaller than the new element\n",
    "    # if it isn't return and do nothing\n",
    "    if array[-1] > new_element:\n",
    "        return\n",
    "    # iterate through the length of the array from the second to last index to 0\n",
    "    for i in range(len(array) - 1, -1, -1):\n",
    "        # if the indexed element is larger than the new element insert the new element in the index + 1\n",
    "        if array[i] > new_element:\n",
    "            array.insert(i+1, new_element)\n",
    "            # pop the last element\n",
    "            array.pop(-1)\n",
    "            # then return to stop the loop\n",
    "            return array\n",
    "\n",
    "# countring sort\n",
    "# given an array\n",
    "def countingSort(array):\n",
    "# find the max and min value in the array\n",
    "    maxValue = None\n",
    "    minValue = None\n",
    "    for e in array:\n",
    "        if maxValue is None:\n",
    "            maxValue = e\n",
    "        elif maxValue < e:\n",
    "            maxValue = e\n",
    "        if minValue is None:\n",
    "            minValue = e\n",
    "        elif minValue > e:\n",
    "            minValue = e\n",
    "    print(\"min\", minValue, \"max\", maxValue)\n",
    "    # create a dictionary with keys of the range between from the min to the max value\n",
    "    dictionary = {}\n",
    "    for i in range(minValue, maxValue + 1):\n",
    "        dictionary[i] = 0\n",
    "        \n",
    "    # iterate through array and increment the value for each key found in the created dictionary\n",
    "    for e in array:\n",
    "        dictionary[e] += 1\n",
    "    print(\"new dict\", dictionary)\n",
    "    # iterate through all keys in the dictionary and increment each value by its previous value\n",
    "    for i in range(minValue, maxValue):\n",
    "        dictionary[i + 1] += dictionary[i]\n",
    "    print(\"incremented\", dictionary)\n",
    "    # create new array the same size as the original array\n",
    "    newArray = [None] * len(array)\n",
    "    \n",
    "    # iterate through each item in the original array and place it the new array indexed by the dictionary\n",
    "    for e in array:\n",
    "        newArray[dictionary[e]-1] = e\n",
    "        dictionary[e] -= 1\n",
    "    print(\"after\",dictionary)\n",
    "    return newArray"
   ]
  }
 ],
 "metadata": {
  "kernelspec": {
   "display_name": "Python 3",
   "language": "python",
   "name": "python3"
  },
  "language_info": {
   "codemirror_mode": {
    "name": "ipython",
    "version": 3
   },
   "file_extension": ".py",
   "mimetype": "text/x-python",
   "name": "python",
   "nbconvert_exporter": "python",
   "pygments_lexer": "ipython3",
   "version": "3.7.0"
  }
 },
 "nbformat": 4,
 "nbformat_minor": 2
}
